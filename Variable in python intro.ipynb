{
 "cells": [
  {
   "cell_type": "code",
   "execution_count": 67,
   "id": "82faa701",
   "metadata": {},
   "outputs": [
    {
     "name": "stdout",
     "output_type": "stream",
     "text": [
      "C:\\Users\\ksamant\\Desktop\\AIML\\Ineuron\n"
     ]
    }
   ],
   "source": [
    "cd C:\\Users\\ksamant\\Desktop\\AIML\\Ineuron"
   ]
  },
  {
   "cell_type": "code",
   "execution_count": 1,
   "id": "1240a4af",
   "metadata": {},
   "outputs": [
    {
     "name": "stdout",
     "output_type": "stream",
     "text": [
      "kesto\n"
     ]
    }
   ],
   "source": [
    "print(\"kesto\")"
   ]
  },
  {
   "cell_type": "code",
   "execution_count": 5,
   "id": "e7d8f9e4",
   "metadata": {},
   "outputs": [],
   "source": [
    "fdf =40"
   ]
  },
  {
   "cell_type": "code",
   "execution_count": 6,
   "id": "58ce57dd",
   "metadata": {},
   "outputs": [
    {
     "data": {
      "text/plain": [
       "40"
      ]
     },
     "execution_count": 6,
     "metadata": {},
     "output_type": "execute_result"
    }
   ],
   "source": [
    "a-4"
   ]
  },
  {
   "cell_type": "code",
   "execution_count": 7,
   "id": "80c4e5da",
   "metadata": {},
   "outputs": [
    {
     "data": {
      "text/plain": [
       "int"
      ]
     },
     "execution_count": 7,
     "metadata": {},
     "output_type": "execute_result"
    }
   ],
   "source": [
    "type(a)"
   ]
  },
  {
   "cell_type": "code",
   "execution_count": 8,
   "id": "3958bbb5",
   "metadata": {},
   "outputs": [],
   "source": [
    "c=\"this is try\"\n"
   ]
  },
  {
   "cell_type": "code",
   "execution_count": 9,
   "id": "318092a6",
   "metadata": {},
   "outputs": [
    {
     "data": {
      "text/plain": [
       "'this is try'"
      ]
     },
     "execution_count": 9,
     "metadata": {},
     "output_type": "execute_result"
    }
   ],
   "source": [
    "c\n"
   ]
  },
  {
   "cell_type": "code",
   "execution_count": 10,
   "id": "1bc07bab",
   "metadata": {},
   "outputs": [
    {
     "data": {
      "text/plain": [
       "str"
      ]
     },
     "execution_count": 10,
     "metadata": {},
     "output_type": "execute_result"
    }
   ],
   "source": [
    "type(c)"
   ]
  },
  {
   "cell_type": "code",
   "execution_count": 11,
   "id": "90cf3c89",
   "metadata": {},
   "outputs": [],
   "source": [
    "s = 9.9"
   ]
  },
  {
   "cell_type": "code",
   "execution_count": 12,
   "id": "d87ab319",
   "metadata": {},
   "outputs": [
    {
     "data": {
      "text/plain": [
       "9.9"
      ]
     },
     "execution_count": 12,
     "metadata": {},
     "output_type": "execute_result"
    }
   ],
   "source": [
    "s"
   ]
  },
  {
   "cell_type": "code",
   "execution_count": 13,
   "id": "4bfa0fd1",
   "metadata": {},
   "outputs": [
    {
     "data": {
      "text/plain": [
       "float"
      ]
     },
     "execution_count": 13,
     "metadata": {},
     "output_type": "execute_result"
    }
   ],
   "source": [
    "type(s)"
   ]
  },
  {
   "cell_type": "code",
   "execution_count": 14,
   "id": "a1ab2db1",
   "metadata": {},
   "outputs": [],
   "source": [
    "bb = True"
   ]
  },
  {
   "cell_type": "code",
   "execution_count": 15,
   "id": "f13aff3c",
   "metadata": {},
   "outputs": [
    {
     "data": {
      "text/plain": [
       "True"
      ]
     },
     "execution_count": 15,
     "metadata": {},
     "output_type": "execute_result"
    }
   ],
   "source": [
    "bb"
   ]
  },
  {
   "cell_type": "code",
   "execution_count": 16,
   "id": "9921adc5",
   "metadata": {},
   "outputs": [
    {
     "data": {
      "text/plain": [
       "bool"
      ]
     },
     "execution_count": 16,
     "metadata": {},
     "output_type": "execute_result"
    }
   ],
   "source": [
    "type(bb)"
   ]
  },
  {
   "cell_type": "code",
   "execution_count": 17,
   "id": "20c1f54a",
   "metadata": {},
   "outputs": [
    {
     "data": {
      "text/plain": [
       "1"
      ]
     },
     "execution_count": 17,
     "metadata": {},
     "output_type": "execute_result"
    }
   ],
   "source": [
    "True - False"
   ]
  },
  {
   "cell_type": "code",
   "execution_count": 18,
   "id": "cd182d32",
   "metadata": {},
   "outputs": [
    {
     "data": {
      "text/plain": [
       "0"
      ]
     },
     "execution_count": 18,
     "metadata": {},
     "output_type": "execute_result"
    }
   ],
   "source": [
    "True * False"
   ]
  },
  {
   "cell_type": "code",
   "execution_count": 19,
   "id": "76fd9622",
   "metadata": {},
   "outputs": [
    {
     "ename": "ZeroDivisionError",
     "evalue": "division by zero",
     "output_type": "error",
     "traceback": [
      "\u001b[1;31m---------------------------------------------------------------------------\u001b[0m",
      "\u001b[1;31mZeroDivisionError\u001b[0m                         Traceback (most recent call last)",
      "Input \u001b[1;32mIn [19]\u001b[0m, in \u001b[0;36m<cell line: 1>\u001b[1;34m()\u001b[0m\n\u001b[1;32m----> 1\u001b[0m \u001b[38;5;28;43;01mTrue\u001b[39;49;00m\u001b[38;5;241;43m/\u001b[39;49m\u001b[38;5;28;43;01mFalse\u001b[39;49;00m\n",
      "\u001b[1;31mZeroDivisionError\u001b[0m: division by zero"
     ]
    }
   ],
   "source": [
    "True/False"
   ]
  },
  {
   "cell_type": "code",
   "execution_count": 28,
   "id": "8cd4bfcc",
   "metadata": {},
   "outputs": [],
   "source": [
    "ca = 5+6j"
   ]
  },
  {
   "cell_type": "code",
   "execution_count": 29,
   "id": "54be5941",
   "metadata": {},
   "outputs": [
    {
     "data": {
      "text/plain": [
       "(5+6j)"
      ]
     },
     "execution_count": 29,
     "metadata": {},
     "output_type": "execute_result"
    }
   ],
   "source": [
    "ca"
   ]
  },
  {
   "cell_type": "code",
   "execution_count": 30,
   "id": "709b6528",
   "metadata": {},
   "outputs": [
    {
     "data": {
      "text/plain": [
       "complex"
      ]
     },
     "execution_count": 30,
     "metadata": {},
     "output_type": "execute_result"
    }
   ],
   "source": [
    "type(ca)"
   ]
  },
  {
   "cell_type": "code",
   "execution_count": 31,
   "id": "479fb9ab",
   "metadata": {},
   "outputs": [
    {
     "data": {
      "text/plain": [
       "(10+12j)"
      ]
     },
     "execution_count": 31,
     "metadata": {},
     "output_type": "execute_result"
    }
   ],
   "source": [
    "ca*2"
   ]
  },
  {
   "cell_type": "markdown",
   "id": "f9f8e90c",
   "metadata": {},
   "source": [
    "any number associated with \"j\" is a complex number\n"
   ]
  },
  {
   "cell_type": "code",
   "execution_count": 32,
   "id": "25c389ab",
   "metadata": {},
   "outputs": [
    {
     "data": {
      "text/plain": [
       "5.0"
      ]
     },
     "execution_count": 32,
     "metadata": {},
     "output_type": "execute_result"
    }
   ],
   "source": [
    "ca.real"
   ]
  },
  {
   "cell_type": "markdown",
   "id": "ee5d75bd",
   "metadata": {},
   "source": [
    "here we extract the real part from complex number using .real attribute by typing ca.  and then press tab\n",
    "it would show options\n"
   ]
  },
  {
   "cell_type": "code",
   "execution_count": 33,
   "id": "30e86f0e",
   "metadata": {},
   "outputs": [
    {
     "data": {
      "text/plain": [
       "<function complex.conjugate>"
      ]
     },
     "execution_count": 33,
     "metadata": {},
     "output_type": "execute_result"
    }
   ],
   "source": [
    "ca.conjugate"
   ]
  },
  {
   "cell_type": "code",
   "execution_count": 34,
   "id": "5c2b5af2",
   "metadata": {},
   "outputs": [
    {
     "data": {
      "text/plain": [
       "6.0"
      ]
     },
     "execution_count": 34,
     "metadata": {},
     "output_type": "execute_result"
    }
   ],
   "source": [
    "ca.imag"
   ]
  },
  {
   "cell_type": "markdown",
   "id": "823cdcfe",
   "metadata": {},
   "source": [
    "use 'shift + tab' to get the information of the variable or function . you can also use ? mark as well. This is done without dot.\n",
    "\n",
    "to get the list of function/method/property of any variable or function just type the variable/function name and put \".\" and\n",
    "press tab"
   ]
  },
  {
   "cell_type": "code",
   "execution_count": 37,
   "id": "5fe0f05c",
   "metadata": {},
   "outputs": [],
   "source": [
    "ca"
   ]
  },
  {
   "cell_type": "code",
   "execution_count": 41,
   "id": "0d4b1abe",
   "metadata": {},
   "outputs": [],
   "source": [
    "list1 =[1,2,\"kkk\",\"ineuron\",5+7j,9.88]"
   ]
  },
  {
   "cell_type": "code",
   "execution_count": 42,
   "id": "58d98f34",
   "metadata": {},
   "outputs": [
    {
     "data": {
      "text/plain": [
       "[1, 2, 'kkk', 'ineuron', (5+7j), 9.88]"
      ]
     },
     "execution_count": 42,
     "metadata": {},
     "output_type": "execute_result"
    }
   ],
   "source": [
    "list1"
   ]
  },
  {
   "cell_type": "code",
   "execution_count": 43,
   "id": "91980de2",
   "metadata": {},
   "outputs": [
    {
     "data": {
      "text/plain": [
       "list"
      ]
     },
     "execution_count": 43,
     "metadata": {},
     "output_type": "execute_result"
    }
   ],
   "source": [
    "type(list1)"
   ]
  },
  {
   "cell_type": "code",
   "execution_count": 46,
   "id": "e7f720b9",
   "metadata": {},
   "outputs": [],
   "source": [
    "tuple1 = ('abc',1,2,9.88)\n"
   ]
  },
  {
   "cell_type": "code",
   "execution_count": 48,
   "id": "1f17c07a",
   "metadata": {},
   "outputs": [
    {
     "data": {
      "text/plain": [
       "('abc', 1, 2, 9.88)"
      ]
     },
     "execution_count": 48,
     "metadata": {},
     "output_type": "execute_result"
    }
   ],
   "source": [
    "tuple1"
   ]
  },
  {
   "cell_type": "code",
   "execution_count": 49,
   "id": "6fa9f6eb",
   "metadata": {},
   "outputs": [
    {
     "data": {
      "text/plain": [
       "tuple"
      ]
     },
     "execution_count": 49,
     "metadata": {},
     "output_type": "execute_result"
    }
   ],
   "source": [
    "type(tuple1)"
   ]
  },
  {
   "cell_type": "code",
   "execution_count": 65,
   "id": "35f09cca",
   "metadata": {},
   "outputs": [
    {
     "ename": "TypeError",
     "evalue": "'type' object does not support item assignment",
     "output_type": "error",
     "traceback": [
      "\u001b[1;31m---------------------------------------------------------------------------\u001b[0m",
      "\u001b[1;31mTypeError\u001b[0m                                 Traceback (most recent call last)",
      "Input \u001b[1;32mIn [65]\u001b[0m, in \u001b[0;36m<cell line: 1>\u001b[1;34m()\u001b[0m\n\u001b[1;32m----> 1\u001b[0m \u001b[38;5;28mtuple\u001b[39m[\u001b[38;5;241m1\u001b[39m]\u001b[38;5;241m=\u001b[39m\u001b[38;5;241m900\u001b[39m\n",
      "\u001b[1;31mTypeError\u001b[0m: 'type' object does not support item assignment"
     ]
    }
   ],
   "source": [
    "tuple[1]=900"
   ]
  },
  {
   "cell_type": "code",
   "execution_count": 51,
   "id": "d0ec925b",
   "metadata": {},
   "outputs": [],
   "source": [
    "list1[1]=900"
   ]
  },
  {
   "cell_type": "markdown",
   "id": "75cd1308",
   "metadata": {},
   "source": [
    "list1"
   ]
  },
  {
   "cell_type": "markdown",
   "id": "b535878f",
   "metadata": {},
   "source": [
    "Ideally the list are mutable but the tuples are not mutuable, tuple has curly brackets and list has square brackets"
   ]
  },
  {
   "cell_type": "code",
   "execution_count": 68,
   "id": "3ca8d9e7",
   "metadata": {},
   "outputs": [
    {
     "ename": "SyntaxError",
     "evalue": "invalid syntax (1846987389.py, line 1)",
     "output_type": "error",
     "traceback": [
      "\u001b[1;36m  Input \u001b[1;32mIn [68]\u001b[1;36m\u001b[0m\n\u001b[1;33m    dict1 ={\"a\":1,\"b\":\"type\",\"c\":True,d= \"null\"}\u001b[0m\n\u001b[1;37m                                       ^\u001b[0m\n\u001b[1;31mSyntaxError\u001b[0m\u001b[1;31m:\u001b[0m invalid syntax\n"
     ]
    }
   ],
   "source": [
    "dict1 ={\"a\":1,\"b\":\"type\",\"c\":True,\"d = \"null\"}"
   ]
  },
  {
   "cell_type": "code",
   "execution_count": 60,
   "id": "21a7f6f4",
   "metadata": {},
   "outputs": [
    {
     "data": {
      "text/plain": [
       "{'a': 1, 'b': 'type', 'c': True}"
      ]
     },
     "execution_count": 60,
     "metadata": {},
     "output_type": "execute_result"
    }
   ],
   "source": [
    "dict1"
   ]
  },
  {
   "cell_type": "code",
   "execution_count": 61,
   "id": "bc2e84a7",
   "metadata": {},
   "outputs": [
    {
     "data": {
      "text/plain": [
       "dict"
      ]
     },
     "execution_count": 61,
     "metadata": {},
     "output_type": "execute_result"
    }
   ],
   "source": [
    "type(dict1)"
   ]
  },
  {
   "cell_type": "code",
   "execution_count": 62,
   "id": "a2acec7b",
   "metadata": {},
   "outputs": [],
   "source": [
    "dict1[\"d\"] =23232"
   ]
  },
  {
   "cell_type": "code",
   "execution_count": 63,
   "id": "87b4c6c4",
   "metadata": {},
   "outputs": [
    {
     "data": {
      "text/plain": [
       "{'a': 1, 'b': 'type', 'c': True, 'd': 23232}"
      ]
     },
     "execution_count": 63,
     "metadata": {},
     "output_type": "execute_result"
    }
   ],
   "source": [
    "dict1"
   ]
  },
  {
   "cell_type": "markdown",
   "id": "a2504637",
   "metadata": {},
   "source": [
    "Dictionary as shown works as a key value pair for key which acts an index and value assigned at that index"
   ]
  },
  {
   "cell_type": "code",
   "execution_count": null,
   "id": "dc2ecc5a",
   "metadata": {},
   "outputs": [],
   "source": [
    "c =()"
   ]
  }
 ],
 "metadata": {
  "kernelspec": {
   "display_name": "Python 3 (ipykernel)",
   "language": "python",
   "name": "python3"
  },
  "language_info": {
   "codemirror_mode": {
    "name": "ipython",
    "version": 3
   },
   "file_extension": ".py",
   "mimetype": "text/x-python",
   "name": "python",
   "nbconvert_exporter": "python",
   "pygments_lexer": "ipython3",
   "version": "3.9.12"
  }
 },
 "nbformat": 4,
 "nbformat_minor": 5
}
